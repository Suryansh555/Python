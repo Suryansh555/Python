{
 "cells": [
  {
   "cell_type": "markdown",
   "metadata": {},
   "source": [
    "## Question 1"
   ]
  },
  {
   "cell_type": "code",
   "execution_count": 13,
   "metadata": {},
   "outputs": [
    {
     "name": "stdout",
     "output_type": "stream",
     "text": [
      "Enter a number: 5\n",
      "0\n",
      "1\n",
      "1\n",
      "2\n",
      "3\n"
     ]
    }
   ],
   "source": [
    "def deco(func):\n",
    "    n=int(input(\"Enter a number: \"))\n",
    "    return func(n)\n",
    "@deco\n",
    "def fib(n):\n",
    "    a=0\n",
    "    b=1\n",
    "    c=1\n",
    "    if n==1:\n",
    "        print(a)\n",
    "        return\n",
    "    elif n==2:\n",
    "        print(a)\n",
    "        print(b)\n",
    "        return\n",
    "   \n",
    "    print(a)\n",
    "    print(b)\n",
    "    while(a+b<=n-2):\n",
    "        c=a+b\n",
    "        a=b\n",
    "        b=c\n",
    "        print(c)"
   ]
  },
  {
   "cell_type": "markdown",
   "metadata": {},
   "source": [
    "## Question 2"
   ]
  },
  {
   "cell_type": "code",
   "execution_count": 5,
   "metadata": {},
   "outputs": [
    {
     "name": "stdout",
     "output_type": "stream",
     "text": [
      "Trying to write into a file which is in read mode\n"
     ]
    }
   ],
   "source": [
    "fr=open(\"Suryansh.txt\",'r')\n",
    "for line in fr:\n",
    "    print(line)\n",
    "l=\"What is your Qualification?\"\n",
    "try:\n",
    "    fr.write(l)\n",
    "except IOError:\n",
    "    print(\"Trying to write into a file which is in read mode\")"
   ]
  },
  {
   "cell_type": "code",
   "execution_count": null,
   "metadata": {},
   "outputs": [],
   "source": []
  }
 ],
 "metadata": {
  "kernelspec": {
   "display_name": "Python 3",
   "language": "python",
   "name": "python3"
  },
  "language_info": {
   "codemirror_mode": {
    "name": "ipython",
    "version": 3
   },
   "file_extension": ".py",
   "mimetype": "text/x-python",
   "name": "python",
   "nbconvert_exporter": "python",
   "pygments_lexer": "ipython3",
   "version": "3.8.3"
  }
 },
 "nbformat": 4,
 "nbformat_minor": 4
}
