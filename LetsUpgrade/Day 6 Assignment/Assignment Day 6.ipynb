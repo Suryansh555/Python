{
 "cells": [
  {
   "cell_type": "code",
   "execution_count": null,
   "metadata": {},
   "outputs": [],
   "source": [
    "#Question 1"
   ]
  },
  {
   "cell_type": "code",
   "execution_count": 1,
   "metadata": {},
   "outputs": [],
   "source": [
    "class Bank() :\n",
    "    def __init__(self,Ownername,Balance):\n",
    "        self.ownername = Ownername\n",
    "        self.balance = Balance\n",
    "    def Deposit(self,amount):\n",
    "        self.balance += amount\n",
    "        print(\"New Balance =\",self.balance)\n",
    "    def Withdraw(self,amount):\n",
    "        if self.balance >= amount:\n",
    "            self.balance -= amount\n",
    "            print(\"New Balance =\",self.balance)\n",
    "        else:\n",
    "            print(\"Balance is lower than Withdrawal amount !! Please Try Again\")\n",
    "    \n",
    "            \n",
    "        \n",
    "        \n",
    "      "
   ]
  },
  {
   "cell_type": "code",
   "execution_count": 2,
   "metadata": {},
   "outputs": [],
   "source": [
    "suryansh = Bank(\"Suryansh\",15000)"
   ]
  },
  {
   "cell_type": "code",
   "execution_count": 3,
   "metadata": {},
   "outputs": [
    {
     "data": {
      "text/plain": [
       "15000"
      ]
     },
     "execution_count": 3,
     "metadata": {},
     "output_type": "execute_result"
    }
   ],
   "source": [
    "suryansh.balance"
   ]
  },
  {
   "cell_type": "code",
   "execution_count": 4,
   "metadata": {},
   "outputs": [
    {
     "data": {
      "text/plain": [
       "'Suryansh'"
      ]
     },
     "execution_count": 4,
     "metadata": {},
     "output_type": "execute_result"
    }
   ],
   "source": [
    "suryansh.ownername"
   ]
  },
  {
   "cell_type": "code",
   "execution_count": 5,
   "metadata": {},
   "outputs": [
    {
     "name": "stdout",
     "output_type": "stream",
     "text": [
      "New Balance = 25000\n"
     ]
    }
   ],
   "source": [
    "suryansh.Deposit(10000)"
   ]
  },
  {
   "cell_type": "code",
   "execution_count": 6,
   "metadata": {},
   "outputs": [
    {
     "name": "stdout",
     "output_type": "stream",
     "text": [
      "New Balance = 0\n"
     ]
    }
   ],
   "source": [
    "suryansh.Withdraw(25000)"
   ]
  },
  {
   "cell_type": "code",
   "execution_count": 7,
   "metadata": {},
   "outputs": [],
   "source": [
    "suryansh.balance =  500000"
   ]
  },
  {
   "cell_type": "code",
   "execution_count": 9,
   "metadata": {},
   "outputs": [
    {
     "name": "stdout",
     "output_type": "stream",
     "text": [
      "Balance is lower than Withdrawal amount !! Please Try Again\n"
     ]
    }
   ],
   "source": [
    "suryansh.Withdraw(750000)"
   ]
  },
  {
   "cell_type": "code",
   "execution_count": 10,
   "metadata": {},
   "outputs": [],
   "source": [
    "#Question 2"
   ]
  },
  {
   "cell_type": "code",
   "execution_count": 28,
   "metadata": {},
   "outputs": [],
   "source": [
    "import math as mt\n",
    "\n",
    "class Cone():\n",
    "    def __init__(self,Radius,Height):\n",
    "        self.radius = Radius\n",
    "        self.height = Height\n",
    "    def Volume(self):\n",
    "        result = ((mt.pi * self.height) * (self.radius ** 2) / 3) \n",
    "        print(\"Volume =\",result)\n",
    "    def SurfaceArea(self,On):\n",
    "        if (On.lower() == \"base\"):\n",
    "            result = mt.pi * (self.radius ** 2)\n",
    "            print(\"Surface Area on Base =\",result)\n",
    "        elif(On.lower() == \"side\"):\n",
    "            result = (mt.pi * self.radius) *(mt.sqrt((self.radius ** 2) + (self.height ** 2)))\n",
    "            print(\"Surface Area on Side =\",result)\n",
    "        else:\n",
    "            print(\"Please Type the Surface Area Correct\")\n",
    "        "
   ]
  },
  {
   "cell_type": "code",
   "execution_count": 29,
   "metadata": {},
   "outputs": [],
   "source": [
    "A = Cone(3,5)"
   ]
  },
  {
   "cell_type": "code",
   "execution_count": 30,
   "metadata": {},
   "outputs": [
    {
     "name": "stdout",
     "output_type": "stream",
     "text": [
      "Volume = 47.1238898038469\n"
     ]
    }
   ],
   "source": [
    "A.Volume()"
   ]
  },
  {
   "cell_type": "code",
   "execution_count": 33,
   "metadata": {},
   "outputs": [
    {
     "name": "stdout",
     "output_type": "stream",
     "text": [
      "Surface Area on Base = 28.274333882308138\n"
     ]
    }
   ],
   "source": [
    "A.SurfaceArea(\"BASE\")"
   ]
  },
  {
   "cell_type": "code",
   "execution_count": 34,
   "metadata": {},
   "outputs": [
    {
     "name": "stdout",
     "output_type": "stream",
     "text": [
      "Surface Area on Side = 54.955426908844444\n"
     ]
    }
   ],
   "source": [
    "A.SurfaceArea(\"SIDE\")"
   ]
  },
  {
   "cell_type": "code",
   "execution_count": null,
   "metadata": {},
   "outputs": [],
   "source": []
  }
 ],
 "metadata": {
  "kernelspec": {
   "display_name": "Python 3",
   "language": "python",
   "name": "python3"
  },
  "language_info": {
   "codemirror_mode": {
    "name": "ipython",
    "version": 3
   },
   "file_extension": ".py",
   "mimetype": "text/x-python",
   "name": "python",
   "nbconvert_exporter": "python",
   "pygments_lexer": "ipython3",
   "version": "3.8.3"
  }
 },
 "nbformat": 4,
 "nbformat_minor": 4
}
