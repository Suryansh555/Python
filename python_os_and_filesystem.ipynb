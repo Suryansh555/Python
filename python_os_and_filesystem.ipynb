{
  "nbformat": 4,
  "nbformat_minor": 0,
  "metadata": {
    "kernelspec": {
      "display_name": "Python 3",
      "language": "python",
      "name": "python3"
    },
    "language_info": {
      "codemirror_mode": {
        "name": "ipython",
        "version": 3
      },
      "file_extension": ".py",
      "mimetype": "text/x-python",
      "name": "python",
      "nbconvert_exporter": "python",
      "pygments_lexer": "ipython3",
      "version": "3.8.5"
    },
    "colab": {
      "name": "python-os-and-filesystem.ipynb",
      "provenance": [],
      "include_colab_link": true
    }
  },
  "cells": [
    {
      "cell_type": "markdown",
      "metadata": {
        "id": "view-in-github",
        "colab_type": "text"
      },
      "source": [
        "<a href=\"https://colab.research.google.com/github/Suryansh555/Python/blob/master/python_os_and_filesystem.ipynb\" target=\"_parent\"><img src=\"https://colab.research.google.com/assets/colab-badge.svg\" alt=\"Open In Colab\"/></a>"
      ]
    },
    {
      "cell_type": "code",
      "metadata": {
        "id": "T2-FRhIorJ_H"
      },
      "source": [
        "# Jovian Commit Essentials\n",
        "# Please retain and execute this cell without modifying the contents for `jovian.commit` to work\n",
        "!pip install jovian --upgrade -q\n",
        "import jovian\n",
        "jovian.utils.colab.set_colab_file_id('1ANpRy_IZpOMrLvUi8xU8f1NqgDRI-BkA')"
      ],
      "execution_count": null,
      "outputs": []
    },
    {
      "cell_type": "markdown",
      "metadata": {
        "id": "gvNTJxgTrJ_I"
      },
      "source": [
        "# Reading from and Writing to Files using Python\n",
        "\n",
        "![](https://i.imgur.com/rv8wZ7l.png)\n",
        "\n",
        "### Part 5 of \"Data Analysis with Python: Zero to Pandas\"\n",
        "\n",
        "\n",
        "This tutorial series is a beginner-friendly introduction to programming and data analysis using the Python programming language. These tutorials take a practical and coding-focused approach. The best way to learn the material is to execute the code and experiment with it yourself. Check out the full series here: \n",
        "\n",
        "1. [First Steps with Python and Jupyter](https://jovian.ai/aakashns/first-steps-with-python)\n",
        "2. [A Quick Tour of Variables and Data Types](https://jovian.ai/aakashns/python-variables-and-data-types)\n",
        "3. [Branching using Conditional Statements and Loops](https://jovian.ai/aakashns/python-branching-and-loops)\n",
        "4. [Writing Reusable Code Using Functions](https://jovian.ai/aakashns/python-functions-and-scope)\n",
        "5. [Reading from and Writing to Files](https://jovian.ai/aakashns/python-os-and-filesystem)\n",
        "6. [Numerical Computing with Python and Numpy](https://jovian.ai/aakashns/python-numerical-computing-with-numpy)\n",
        "7. [Analyzing Tabular Data using Pandas](https://jovian.ai/aakashns/python-pandas-data-analysis)\n",
        "8. [Data Visualization using Matplotlib & Seaborn](https://jovian.ai/aakashns/python-matplotlib-data-visualization)\n",
        "9. [Exploratory Data Analysis - A Case Study](https://jovian.ai/aakashns/python-eda-stackoverflow-survey)\n"
      ]
    },
    {
      "cell_type": "markdown",
      "metadata": {
        "id": "sIm7jpBrrJ_I"
      },
      "source": [
        "This tutorial covers the following topics:\n",
        "\n",
        "- Interacting with the filesystem using the `os` module\n",
        "- Downloading files from the internet using the `urllib` module\n",
        "- Reading and processing data from text files\n",
        "- Parsing data from CSV files into dictionaries & lists\n",
        "- Writing formatted data back to text files"
      ]
    },
    {
      "cell_type": "markdown",
      "metadata": {
        "id": "IfUCf0VzrJ_I"
      },
      "source": [
        "### How to run the code\n",
        "\n",
        "This tutorial is an executable [Jupyter notebook](https://jupyter.org) hosted on [Jovian](https://www.jovian.ai). You can _run_ this tutorial and experiment with the code examples in a couple of ways: *using free online resources* (recommended) or *on your computer*.\n",
        "\n",
        "#### Option 1: Running using free online resources (1-click, recommended)\n",
        "\n",
        "The easiest way to start executing the code is to click the **Run** button at the top of this page and select **Run on Binder**. You can also select \"Run on Colab\" or \"Run on Kaggle\", but you'll need to create an account on [Google Colab](https://colab.research.google.com) or [Kaggle](https://kaggle.com) to use these platforms.\n",
        "\n",
        "\n",
        "#### Option 2: Running on your computer locally\n",
        "\n",
        "To run the code on your computer locally, you'll need to set up [Python](https://www.python.org), download the notebook and install the required libraries. We recommend using the [Conda](https://docs.conda.io/projects/conda/en/latest/user-guide/install/) distribution of Python. Click the **Run** button at the top of this page, select the **Run Locally** option, and follow the instructions.\n",
        "\n",
        ">  **Jupyter Notebooks**: This tutorial is a [Jupyter notebook](https://jupyter.org) - a document made of _cells_. Each cell can contain code written in Python or explanations in plain English. You can execute code cells and view the results, e.g., numbers, messages, graphs, tables, files, etc., instantly within the notebook. Jupyter is a powerful platform for experimentation and analysis. Don't be afraid to mess around with the code & break things - you'll learn a lot by encountering and fixing errors. You can use the \"Kernel > Restart & Clear Output\" menu option to clear all outputs and start again from the top."
      ]
    },
    {
      "cell_type": "markdown",
      "metadata": {
        "id": "ZYsFsbOrrJ_I"
      },
      "source": [
        "## Interacting with the OS and filesystem\n",
        "\n",
        "The `os` module in Python provides many functions for interacting with the OS and the filesystem. Let's import it and try out some examples."
      ]
    },
    {
      "cell_type": "code",
      "metadata": {
        "id": "AqhxTO7brJ_I"
      },
      "source": [
        "import os"
      ],
      "execution_count": null,
      "outputs": []
    },
    {
      "cell_type": "markdown",
      "metadata": {
        "id": "MwzOZYfWrJ_J"
      },
      "source": [
        "We can check the present working directory using the `os.getcwd` function."
      ]
    },
    {
      "cell_type": "code",
      "metadata": {
        "id": "dOgx_IM7rJ_J",
        "outputId": "3b94e6b7-789e-45dd-bd0a-1067c7484565"
      },
      "source": [
        "os.getcwd()"
      ],
      "execution_count": null,
      "outputs": [
        {
          "output_type": "execute_result",
          "data": {
            "text/plain": [
              "'/Users/aakashns/workspace/jovian/zerotopandas/python-os-and-filesystem'"
            ]
          },
          "metadata": {
            "tags": []
          },
          "execution_count": 2
        }
      ]
    },
    {
      "cell_type": "markdown",
      "metadata": {
        "id": "4SXcurb2rJ_K"
      },
      "source": [
        "To get the list of files in a directory, use `os.listdir`. You pass an absolute or relative path of a directory as the argument to the function."
      ]
    },
    {
      "cell_type": "code",
      "metadata": {
        "id": "V7-FcpS_rJ_K",
        "outputId": "9c76cbe7-fe6e-4d21-d11e-446f9ea70624"
      },
      "source": [
        "help(os.listdir)"
      ],
      "execution_count": null,
      "outputs": [
        {
          "output_type": "stream",
          "text": [
            "Help on built-in function listdir in module posix:\n",
            "\n",
            "listdir(path=None)\n",
            "    Return a list containing the names of the files in the directory.\n",
            "    \n",
            "    path can be specified as either str, bytes, or a path-like object.  If path is bytes,\n",
            "      the filenames returned will also be bytes; in all other circumstances\n",
            "      the filenames returned will be str.\n",
            "    If path is None, uses the path='.'.\n",
            "    On some platforms, path may also be specified as an open file descriptor;\\\n",
            "      the file descriptor must refer to a directory.\n",
            "      If this functionality is unavailable, using it raises NotImplementedError.\n",
            "    \n",
            "    The list is in arbitrary order.  It does not include the special\n",
            "    entries '.' and '..' even if they are present in the directory.\n",
            "\n"
          ],
          "name": "stdout"
        }
      ]
    },
    {
      "cell_type": "code",
      "metadata": {
        "id": "Mat8-sMjrJ_K",
        "outputId": "8cb5174b-63e1-4c52-f094-7e4982500c91"
      },
      "source": [
        "os.listdir('.') # relative path"
      ],
      "execution_count": null,
      "outputs": [
        {
          "output_type": "execute_result",
          "data": {
            "text/plain": [
              "['.jovianrc', '.ipynb_checkpoints', 'python-os-and-filesystem.ipynb', 'data']"
            ]
          },
          "metadata": {
            "tags": []
          },
          "execution_count": 4
        }
      ]
    },
    {
      "cell_type": "code",
      "metadata": {
        "id": "R_zMLrOirJ_L",
        "outputId": "55bdf0ac-42a1-4f00-b11f-09a1500f3eb1"
      },
      "source": [
        "os.listdir('/usr') # absolute path"
      ],
      "execution_count": null,
      "outputs": [
        {
          "output_type": "execute_result",
          "data": {
            "text/plain": [
              "['bin',\n",
              " 'standalone',\n",
              " 'libexec',\n",
              " 'sbin',\n",
              " 'local',\n",
              " 'lib',\n",
              " 'X11',\n",
              " 'X11R6',\n",
              " 'share']"
            ]
          },
          "metadata": {
            "tags": []
          },
          "execution_count": 5
        }
      ]
    },
    {
      "cell_type": "markdown",
      "metadata": {
        "id": "DNouqIv2rJ_L"
      },
      "source": [
        "You can create a new directory using `os.makedirs`. Let's create a new directory called `data`, where we'll later download some files."
      ]
    },
    {
      "cell_type": "code",
      "metadata": {
        "id": "rtI97HlRrJ_L"
      },
      "source": [
        "os.makedirs('./data', exist_ok=True)"
      ],
      "execution_count": null,
      "outputs": []
    },
    {
      "cell_type": "markdown",
      "metadata": {
        "id": "bY8oLTbDrJ_L"
      },
      "source": [
        "Can you figure out what the argument `exist_ok` does? Try using the `help` function or [read the documentation](https://docs.python.org/3/library/os.html#os.makedirs).\n",
        "\n",
        "Let's verify that the directory was created and is currently empty."
      ]
    },
    {
      "cell_type": "code",
      "metadata": {
        "id": "_N22TsknrJ_L",
        "outputId": "011413ba-dc9a-4dad-8827-3cb45b21f31f"
      },
      "source": [
        "'data' in os.listdir('.')"
      ],
      "execution_count": null,
      "outputs": [
        {
          "output_type": "execute_result",
          "data": {
            "text/plain": [
              "True"
            ]
          },
          "metadata": {
            "tags": []
          },
          "execution_count": 7
        }
      ]
    },
    {
      "cell_type": "code",
      "metadata": {
        "id": "-Mq4csvQrJ_L",
        "outputId": "54ea2fa7-2e90-4c41-a791-0625c70be9dc"
      },
      "source": [
        "os.listdir('./data')"
      ],
      "execution_count": null,
      "outputs": [
        {
          "output_type": "execute_result",
          "data": {
            "text/plain": [
              "['loans2.txt',\n",
              " 'loans3.txt',\n",
              " 'loans1.txt',\n",
              " 'emis3.txt',\n",
              " 'emis2.txt',\n",
              " 'emis1.txt']"
            ]
          },
          "metadata": {
            "tags": []
          },
          "execution_count": 8
        }
      ]
    },
    {
      "cell_type": "markdown",
      "metadata": {
        "id": "-cLG9csdrJ_L"
      },
      "source": [
        "Let us download some files into the `data` directory using the `urllib` module."
      ]
    },
    {
      "cell_type": "code",
      "metadata": {
        "id": "PfYHxiv6rJ_L"
      },
      "source": [
        "url1 = 'https://gist.githubusercontent.com/aakashns/257f6e6c8719c17d0e498ea287d1a386/raw/7def9ef4234ddf0bc82f855ad67dac8b971852ef/loans1.txt'\n",
        "url2 = 'https://gist.githubusercontent.com/aakashns/257f6e6c8719c17d0e498ea287d1a386/raw/7def9ef4234ddf0bc82f855ad67dac8b971852ef/loans2.txt'\n",
        "url3 = 'https://gist.githubusercontent.com/aakashns/257f6e6c8719c17d0e498ea287d1a386/raw/7def9ef4234ddf0bc82f855ad67dac8b971852ef/loans3.txt'"
      ],
      "execution_count": null,
      "outputs": []
    },
    {
      "cell_type": "code",
      "metadata": {
        "id": "Xtb7-Z3VrJ_L"
      },
      "source": [
        "import urllib.request"
      ],
      "execution_count": null,
      "outputs": []
    },
    {
      "cell_type": "code",
      "metadata": {
        "id": "zGP3EiKurJ_L",
        "outputId": "82048ccb-3255-4cf2-c918-d2b2d91041a2"
      },
      "source": [
        "urllib.request.urlretrieve(url1, './data/loans1.txt')"
      ],
      "execution_count": null,
      "outputs": [
        {
          "output_type": "execute_result",
          "data": {
            "text/plain": [
              "('./data/loans1.txt', <http.client.HTTPMessage at 0x7f8bed878130>)"
            ]
          },
          "metadata": {
            "tags": []
          },
          "execution_count": 11
        }
      ]
    },
    {
      "cell_type": "code",
      "metadata": {
        "id": "yDIDuYL0rJ_L",
        "outputId": "8e449429-38d0-4bf1-9ca0-d37d4b783c34"
      },
      "source": [
        "urllib.request.urlretrieve(url2, './data/loans2.txt')"
      ],
      "execution_count": null,
      "outputs": [
        {
          "output_type": "execute_result",
          "data": {
            "text/plain": [
              "('./data/loans2.txt', <http.client.HTTPMessage at 0x7f8bedf5c5e0>)"
            ]
          },
          "metadata": {
            "tags": []
          },
          "execution_count": 12
        }
      ]
    },
    {
      "cell_type": "code",
      "metadata": {
        "id": "P87WIwsVrJ_L",
        "outputId": "59e473f1-c3c3-4330-ae2b-1d39374fc5f8"
      },
      "source": [
        "urllib.request.urlretrieve(url3, './data/loans3.txt')"
      ],
      "execution_count": null,
      "outputs": [
        {
          "output_type": "execute_result",
          "data": {
            "text/plain": [
              "('./data/loans3.txt', <http.client.HTTPMessage at 0x7f8bedf5c6d0>)"
            ]
          },
          "metadata": {
            "tags": []
          },
          "execution_count": 13
        }
      ]
    },
    {
      "cell_type": "markdown",
      "metadata": {
        "id": "C9HL5gFwrJ_L"
      },
      "source": [
        "Let's verify that the files were downloaded."
      ]
    },
    {
      "cell_type": "code",
      "metadata": {
        "id": "VVPpcAVhrJ_L",
        "outputId": "8a8672fc-344c-444d-a673-946344bb5b60"
      },
      "source": [
        "os.listdir('./data')"
      ],
      "execution_count": null,
      "outputs": [
        {
          "output_type": "execute_result",
          "data": {
            "text/plain": [
              "['loans2.txt',\n",
              " 'loans3.txt',\n",
              " 'loans1.txt',\n",
              " 'emis3.txt',\n",
              " 'emis2.txt',\n",
              " 'emis1.txt']"
            ]
          },
          "metadata": {
            "tags": []
          },
          "execution_count": 14
        }
      ]
    },
    {
      "cell_type": "markdown",
      "metadata": {
        "id": "lqhFwRwYrJ_L"
      },
      "source": [
        "### Reading from a file \n",
        "\n",
        "To read the contents of a file, we first need to open the file using the built-in `open` function. The `open` function returns a file object and provides several methods for interacting with the file's contents."
      ]
    },
    {
      "cell_type": "code",
      "metadata": {
        "id": "UIDNqMGarJ_L"
      },
      "source": [
        "file1 = open('./data/loans1.txt', mode='r')"
      ],
      "execution_count": null,
      "outputs": []
    },
    {
      "cell_type": "markdown",
      "metadata": {
        "id": "eOpn7Y5ArJ_L"
      },
      "source": [
        "The `open` function also accepts a `mode` argument to specifies how we can interact with the file. The following options are supported:\n",
        "\n",
        "```\n",
        "    ========= ===============================================================\n",
        "    Character Meaning\n",
        "    --------- ---------------------------------------------------------------\n",
        "    'r'       open for reading (default)\n",
        "    'w'       open for writing, truncating the file first\n",
        "    'x'       create a new file and open it for writing\n",
        "    'a'       open for writing, appending to the end of the file if it exists\n",
        "    'b'       binary mode\n",
        "    't'       text mode (default)\n",
        "    '+'       open a disk file for updating (reading and writing)\n",
        "    'U'       universal newline mode (deprecated)\n",
        "    ========= ===============================================================\n",
        "```\n",
        "\n",
        "To view the contents of the file, we can use the `read` method of the file object."
      ]
    },
    {
      "cell_type": "code",
      "metadata": {
        "id": "ZzzmAL-RrJ_L"
      },
      "source": [
        "file1_contents = file1.read()"
      ],
      "execution_count": null,
      "outputs": []
    },
    {
      "cell_type": "code",
      "metadata": {
        "id": "3aGyThfurJ_L",
        "outputId": "534d7f60-2162-4fa7-d411-7134dec7bb3d"
      },
      "source": [
        "print(file1_contents)"
      ],
      "execution_count": null,
      "outputs": [
        {
          "output_type": "stream",
          "text": [
            "amount,duration,rate,down_payment\n",
            "100000,36,0.08,20000\n",
            "200000,12,0.1,\n",
            "628400,120,0.12,100000\n",
            "4637400,240,0.06,\n",
            "42900,90,0.07,8900\n",
            "916000,16,0.13,\n",
            "45230,48,0.08,4300\n",
            "991360,99,0.08,\n",
            "423000,27,0.09,47200\n"
          ],
          "name": "stdout"
        }
      ]
    },
    {
      "cell_type": "markdown",
      "metadata": {
        "id": "iJGEo_0trJ_L"
      },
      "source": [
        "The file contains information about loans. It is a set of comma-separated values (CSV). \n",
        "\n",
        "> **CSVs**: A comma-separated values (CSV) file is a delimited text file that uses a comma to separate values. Each line of the file is a data record. Each record consists of one or more fields, separated by commas. A CSV file typically stores tabular data (numbers and text) in plain text, in which case each line will have the same number of fields. (Wikipedia)\n",
        "\n",
        "The first line of the file is the header, indicating what each of the numbers on the remaining lines represents. Each of the remaining lines provides information about a loan. Thus, the second line `10000,36,0.08,20000` represents a loan with:\n",
        "\n",
        "* an *amount* of `$10000`, \n",
        "* *duration* of `36` months, \n",
        "* *rate of interest* of `8%` per annum, and \n",
        "* a down payment of `$20000`\n",
        "\n",
        "The CSV is a standard file format used for sharing data for analysis and visualization. Over the course of this tutorial, we will read the data from these CSV files, process it, and write the results back to files. Before we continue, let's close the file using the `close` method (otherwise, Python will continue to hold the entire file in the RAM)"
      ]
    },
    {
      "cell_type": "code",
      "metadata": {
        "id": "4jJ0HjLRrJ_L"
      },
      "source": [
        "file1.close()"
      ],
      "execution_count": null,
      "outputs": []
    },
    {
      "cell_type": "markdown",
      "metadata": {
        "id": "_vYkq7MrrJ_L"
      },
      "source": [
        "Once a file is closed, you can no longer read from it."
      ]
    },
    {
      "cell_type": "code",
      "metadata": {
        "id": "Tr744t61rJ_L",
        "outputId": "5827a9f7-218e-42ca-94bd-c7dc26be1560"
      },
      "source": [
        "file1.read()"
      ],
      "execution_count": null,
      "outputs": [
        {
          "output_type": "error",
          "ename": "ValueError",
          "evalue": "I/O operation on closed file.",
          "traceback": [
            "\u001b[0;31m---------------------------------------------------------------------------\u001b[0m",
            "\u001b[0;31mValueError\u001b[0m                                Traceback (most recent call last)",
            "\u001b[0;32m<ipython-input-19-2fcf3b5e742f>\u001b[0m in \u001b[0;36m<module>\u001b[0;34m\u001b[0m\n\u001b[0;32m----> 1\u001b[0;31m \u001b[0mfile1\u001b[0m\u001b[0;34m.\u001b[0m\u001b[0mread\u001b[0m\u001b[0;34m(\u001b[0m\u001b[0;34m)\u001b[0m\u001b[0;34m\u001b[0m\u001b[0;34m\u001b[0m\u001b[0m\n\u001b[0m",
            "\u001b[0;31mValueError\u001b[0m: I/O operation on closed file."
          ]
        }
      ]
    },
    {
      "cell_type": "markdown",
      "metadata": {
        "id": "HkaKuOqlrJ_M"
      },
      "source": [
        "### Closing files automatically using `with`\n",
        "\n",
        "To close a file automatically after you've processed it, you can open it using the `with` statement."
      ]
    },
    {
      "cell_type": "code",
      "metadata": {
        "id": "Y5tEYk-grJ_M",
        "outputId": "d40da4eb-f64e-47c3-e157-ab930b1d54be"
      },
      "source": [
        "with open('./data/loans2.txt') as file2:\n",
        "    file2_contents = file2.read()\n",
        "    print(file2_contents)"
      ],
      "execution_count": null,
      "outputs": [
        {
          "output_type": "stream",
          "text": [
            "amount,duration,rate,down_payment\n",
            "828400,120,0.11,100000\n",
            "4633400,240,0.06,\n",
            "42900,90,0.08,8900\n",
            "983000,16,0.14,\n",
            "15230,48,0.07,4300\n"
          ],
          "name": "stdout"
        }
      ]
    },
    {
      "cell_type": "markdown",
      "metadata": {
        "id": "4RCL2aM2rJ_M"
      },
      "source": [
        "Once the statements within the `with` block are executed, the `.close` method on `file2` is automatically invoked. Let's verify this by trying to read from the file object again."
      ]
    },
    {
      "cell_type": "code",
      "metadata": {
        "id": "yGIcZi07rJ_M",
        "outputId": "130d8d08-b203-43e1-84b9-9d3d59e8a987"
      },
      "source": [
        "file2.read()"
      ],
      "execution_count": null,
      "outputs": [
        {
          "output_type": "error",
          "ename": "ValueError",
          "evalue": "I/O operation on closed file.",
          "traceback": [
            "\u001b[0;31m---------------------------------------------------------------------------\u001b[0m",
            "\u001b[0;31mValueError\u001b[0m                                Traceback (most recent call last)",
            "\u001b[0;32m<ipython-input-21-4a9205324152>\u001b[0m in \u001b[0;36m<module>\u001b[0;34m\u001b[0m\n\u001b[0;32m----> 1\u001b[0;31m \u001b[0mfile2\u001b[0m\u001b[0;34m.\u001b[0m\u001b[0mread\u001b[0m\u001b[0;34m(\u001b[0m\u001b[0;34m)\u001b[0m\u001b[0;34m\u001b[0m\u001b[0;34m\u001b[0m\u001b[0m\n\u001b[0m",
            "\u001b[0;31mValueError\u001b[0m: I/O operation on closed file."
          ]
        }
      ]
    },
    {
      "cell_type": "markdown",
      "metadata": {
        "id": "-gDeSTpyrJ_M"
      },
      "source": [
        "### Reading a file line by line\n",
        "\n",
        "\n",
        "File objects provide a `readlines` method to read a file line-by-line. "
      ]
    },
    {
      "cell_type": "code",
      "metadata": {
        "id": "Z3HRwM_xrJ_M"
      },
      "source": [
        "with open('./data/loans3.txt', 'r') as file3:\n",
        "    file3_lines = file3.readlines()"
      ],
      "execution_count": null,
      "outputs": []
    },
    {
      "cell_type": "code",
      "metadata": {
        "id": "i1y9qFfWrJ_M",
        "outputId": "ec693fc8-97ea-497a-f25b-12c9efca2250"
      },
      "source": [
        "file3_lines"
      ],
      "execution_count": null,
      "outputs": [
        {
          "output_type": "execute_result",
          "data": {
            "text/plain": [
              "['amount,duration,rate,down_payment\\n',\n",
              " '45230,48,0.07,4300\\n',\n",
              " '883000,16,0.14,\\n',\n",
              " '100000,12,0.1,\\n',\n",
              " '728400,120,0.12,100000\\n',\n",
              " '3637400,240,0.06,\\n',\n",
              " '82900,90,0.07,8900\\n',\n",
              " '316000,16,0.13,\\n',\n",
              " '15230,48,0.08,4300\\n',\n",
              " '991360,99,0.08,\\n',\n",
              " '323000,27,0.09,4720010000,36,0.08,20000\\n',\n",
              " '528400,120,0.11,100000\\n',\n",
              " '8633400,240,0.06,\\n',\n",
              " '12900,90,0.08,8900']"
            ]
          },
          "metadata": {
            "tags": []
          },
          "execution_count": 23
        }
      ]
    },
    {
      "cell_type": "markdown",
      "metadata": {
        "id": "WhMwt_wBrJ_M"
      },
      "source": [
        "### Processing data from files\n",
        "\n",
        "Before performing any operations on the data stored in a file, we need to convert the file's contents from one large string into Python data types. For the file `loans1.txt` containing information about loans in a CSV format, we can do the following:\n",
        "\n",
        "* Read the file line by line\n",
        "* Parse the first line to get a list of the column names or headers\n",
        "* Split each remaining line and convert each value into a float\n",
        "* Create a dictionary for each loan using the headers as keys\n",
        "* Create a list of dictionaries to keep track of all the loans\n",
        "\n",
        "Since we will perform the same operations for multiple files, it would be useful to define a function `read_csv`. We'll also define some helper functions to build up the functionality step by step. \n",
        "\n",
        "Let's start by defining a function `parse_header` that takes a line as input and returns a list of column headers."
      ]
    },
    {
      "cell_type": "code",
      "metadata": {
        "id": "zOC5IPy-rJ_M"
      },
      "source": [
        "def parse_headers(header_line):\n",
        "    return header_line.strip().split(',')"
      ],
      "execution_count": null,
      "outputs": []
    },
    {
      "cell_type": "markdown",
      "metadata": {
        "id": "y4F6y7o3rJ_M"
      },
      "source": [
        "The `strip` method removes any extra spaces and the newline character `\\n`. The `split` method breaks a string into a list using the given separator (`,` in this case)."
      ]
    },
    {
      "cell_type": "code",
      "metadata": {
        "id": "CfbPPCt4rJ_M",
        "outputId": "2fd8ff6d-1b72-4990-ec62-95071df1196f"
      },
      "source": [
        "file3_lines[0]"
      ],
      "execution_count": null,
      "outputs": [
        {
          "output_type": "execute_result",
          "data": {
            "text/plain": [
              "'amount,duration,rate,down_payment\\n'"
            ]
          },
          "metadata": {
            "tags": []
          },
          "execution_count": 25
        }
      ]
    },
    {
      "cell_type": "code",
      "metadata": {
        "id": "8F1ryGa7rJ_M"
      },
      "source": [
        "headers = parse_headers(file3_lines[0])"
      ],
      "execution_count": null,
      "outputs": []
    },
    {
      "cell_type": "code",
      "metadata": {
        "id": "dwECfUGmrJ_M",
        "outputId": "1b94e2e8-c5a1-4a7b-988f-f1d019bb2b55"
      },
      "source": [
        "headers"
      ],
      "execution_count": null,
      "outputs": [
        {
          "output_type": "execute_result",
          "data": {
            "text/plain": [
              "['amount', 'duration', 'rate', 'down_payment']"
            ]
          },
          "metadata": {
            "tags": []
          },
          "execution_count": 27
        }
      ]
    },
    {
      "cell_type": "markdown",
      "metadata": {
        "id": "aNv4IGzwrJ_N"
      },
      "source": [
        "Next, let's define a function `parse_values` that takes a line containing some data and returns a list of floating-point numbers."
      ]
    },
    {
      "cell_type": "code",
      "metadata": {
        "id": "bRn-G9oRrJ_N"
      },
      "source": [
        "def parse_values(data_line):\n",
        "    values = []\n",
        "    for item in data_line.strip().split(','):\n",
        "        values.append(float(item))\n",
        "    return values"
      ],
      "execution_count": null,
      "outputs": []
    },
    {
      "cell_type": "code",
      "metadata": {
        "id": "5C5aBI1PrJ_N",
        "outputId": "b15b703f-3366-45d1-d63c-b9cc180fd2c4"
      },
      "source": [
        "file3_lines[1]"
      ],
      "execution_count": null,
      "outputs": [
        {
          "output_type": "execute_result",
          "data": {
            "text/plain": [
              "'45230,48,0.07,4300\\n'"
            ]
          },
          "metadata": {
            "tags": []
          },
          "execution_count": 31
        }
      ]
    },
    {
      "cell_type": "code",
      "metadata": {
        "id": "xoND6fHxrJ_N",
        "outputId": "7fd9e905-e5f0-48ac-e32d-2974482a0a8e"
      },
      "source": [
        "parse_values(file3_lines[1])"
      ],
      "execution_count": null,
      "outputs": [
        {
          "output_type": "execute_result",
          "data": {
            "text/plain": [
              "[45230.0, 48.0, 0.07, 4300.0]"
            ]
          },
          "metadata": {
            "tags": []
          },
          "execution_count": 32
        }
      ]
    },
    {
      "cell_type": "markdown",
      "metadata": {
        "id": "3n8-19S7rJ_N"
      },
      "source": [
        "The values were parsed and converted to floating point numbers, as expected. Let's try it for another line from the file, which does not contain a value for the down payment."
      ]
    },
    {
      "cell_type": "code",
      "metadata": {
        "id": "jifSWWY5rJ_N",
        "outputId": "70393c6f-1f1b-4cc5-9dce-80cd0c7aa5ed"
      },
      "source": [
        "file3_lines[2]"
      ],
      "execution_count": null,
      "outputs": [
        {
          "output_type": "execute_result",
          "data": {
            "text/plain": [
              "'883000,16,0.14,\\n'"
            ]
          },
          "metadata": {
            "tags": []
          },
          "execution_count": 33
        }
      ]
    },
    {
      "cell_type": "code",
      "metadata": {
        "id": "65eIjAYIrJ_N",
        "outputId": "0e56db36-938a-48d1-e679-631878b31c8e"
      },
      "source": [
        "parse_values(file3_lines[2])"
      ],
      "execution_count": null,
      "outputs": [
        {
          "output_type": "error",
          "ename": "ValueError",
          "evalue": "could not convert string to float: ''",
          "traceback": [
            "\u001b[0;31m---------------------------------------------------------------------------\u001b[0m",
            "\u001b[0;31mValueError\u001b[0m                                Traceback (most recent call last)",
            "\u001b[0;32m<ipython-input-34-b170e8564609>\u001b[0m in \u001b[0;36m<module>\u001b[0;34m\u001b[0m\n\u001b[0;32m----> 1\u001b[0;31m \u001b[0mparse_values\u001b[0m\u001b[0;34m(\u001b[0m\u001b[0mfile3_lines\u001b[0m\u001b[0;34m[\u001b[0m\u001b[0;36m2\u001b[0m\u001b[0;34m]\u001b[0m\u001b[0;34m)\u001b[0m\u001b[0;34m\u001b[0m\u001b[0;34m\u001b[0m\u001b[0m\n\u001b[0m",
            "\u001b[0;32m<ipython-input-28-8be4024619c8>\u001b[0m in \u001b[0;36mparse_values\u001b[0;34m(data_line)\u001b[0m\n\u001b[1;32m      2\u001b[0m     \u001b[0mvalues\u001b[0m \u001b[0;34m=\u001b[0m \u001b[0;34m[\u001b[0m\u001b[0;34m]\u001b[0m\u001b[0;34m\u001b[0m\u001b[0;34m\u001b[0m\u001b[0m\n\u001b[1;32m      3\u001b[0m     \u001b[0;32mfor\u001b[0m \u001b[0mitem\u001b[0m \u001b[0;32min\u001b[0m \u001b[0mdata_line\u001b[0m\u001b[0;34m.\u001b[0m\u001b[0mstrip\u001b[0m\u001b[0;34m(\u001b[0m\u001b[0;34m)\u001b[0m\u001b[0;34m.\u001b[0m\u001b[0msplit\u001b[0m\u001b[0;34m(\u001b[0m\u001b[0;34m','\u001b[0m\u001b[0;34m)\u001b[0m\u001b[0;34m:\u001b[0m\u001b[0;34m\u001b[0m\u001b[0;34m\u001b[0m\u001b[0m\n\u001b[0;32m----> 4\u001b[0;31m         \u001b[0mvalues\u001b[0m\u001b[0;34m.\u001b[0m\u001b[0mappend\u001b[0m\u001b[0;34m(\u001b[0m\u001b[0mfloat\u001b[0m\u001b[0;34m(\u001b[0m\u001b[0mitem\u001b[0m\u001b[0;34m)\u001b[0m\u001b[0;34m)\u001b[0m\u001b[0;34m\u001b[0m\u001b[0;34m\u001b[0m\u001b[0m\n\u001b[0m\u001b[1;32m      5\u001b[0m     \u001b[0;32mreturn\u001b[0m \u001b[0mvalues\u001b[0m\u001b[0;34m\u001b[0m\u001b[0;34m\u001b[0m\u001b[0m\n",
            "\u001b[0;31mValueError\u001b[0m: could not convert string to float: ''"
          ]
        }
      ]
    },
    {
      "cell_type": "markdown",
      "metadata": {
        "id": "rF7FXilSrJ_N"
      },
      "source": [
        "The code above leads to a `ValueError` because the empty string `''` cannot be converted to a float. We can enhance the `parse_values` function to handle this *edge case*."
      ]
    },
    {
      "cell_type": "code",
      "metadata": {
        "id": "BXX1U4vmrJ_N"
      },
      "source": [
        "def parse_values(data_line):\n",
        "    values = []\n",
        "    for item in data_line.strip().split(','):\n",
        "        if item == '':\n",
        "            values.append(0.0)\n",
        "        else:\n",
        "            values.append(float(item))\n",
        "    return values"
      ],
      "execution_count": null,
      "outputs": []
    },
    {
      "cell_type": "code",
      "metadata": {
        "id": "ZhCFYd-vrJ_N",
        "outputId": "230423a2-2ebf-49af-e9a2-306a1738d1bf"
      },
      "source": [
        "file3_lines[2]"
      ],
      "execution_count": null,
      "outputs": [
        {
          "output_type": "execute_result",
          "data": {
            "text/plain": [
              "'883000,16,0.14,\\n'"
            ]
          },
          "metadata": {
            "tags": []
          },
          "execution_count": 36
        }
      ]
    },
    {
      "cell_type": "code",
      "metadata": {
        "id": "sNJVR101rJ_O",
        "outputId": "bfffbf20-f4c3-4fa0-ebe4-bc075dd1cb36"
      },
      "source": [
        "parse_values(file3_lines[2])"
      ],
      "execution_count": null,
      "outputs": [
        {
          "output_type": "execute_result",
          "data": {
            "text/plain": [
              "[883000.0, 16.0, 0.14, 0.0]"
            ]
          },
          "metadata": {
            "tags": []
          },
          "execution_count": 37
        }
      ]
    },
    {
      "cell_type": "markdown",
      "metadata": {
        "id": "l1o18d1wrJ_O"
      },
      "source": [
        "Next, let's define a function `create_item_dict` that takes a list of values and a list of headers as inputs and returns a dictionary with the values associated with their respective headers as keys.\n"
      ]
    },
    {
      "cell_type": "code",
      "metadata": {
        "id": "xXe-vIchrJ_O"
      },
      "source": [
        "def create_item_dict(values, headers):\n",
        "    result = {}\n",
        "    for value, header in zip(values, headers):\n",
        "        result[header] = value\n",
        "    return result"
      ],
      "execution_count": null,
      "outputs": []
    },
    {
      "cell_type": "markdown",
      "metadata": {
        "id": "M77rEmQxrJ_O"
      },
      "source": [
        "Can you figure out what the Python built-in function `zip` does? Try out an example, or [read the documentation](https://docs.python.org/3.3/library/functions.html#zip)."
      ]
    },
    {
      "cell_type": "code",
      "metadata": {
        "id": "T_3oPjAgrJ_O",
        "outputId": "3c418f37-f1bc-4e7d-f914-4de860e59e7d"
      },
      "source": [
        "for item in zip([1,2,3], ['a', 'b', 'c']):\n",
        "    print(item)"
      ],
      "execution_count": null,
      "outputs": [
        {
          "output_type": "stream",
          "text": [
            "(1, 'a')\n",
            "(2, 'b')\n",
            "(3, 'c')\n"
          ],
          "name": "stdout"
        }
      ]
    },
    {
      "cell_type": "markdown",
      "metadata": {
        "id": "COUgi9eArJ_O"
      },
      "source": [
        "Let's try out `create_item_dict` with a couple of examples."
      ]
    },
    {
      "cell_type": "code",
      "metadata": {
        "id": "Zq78SEiorJ_O",
        "outputId": "8c52bd83-206e-477d-cf3f-922ee0a5ae54"
      },
      "source": [
        "file3_lines[1]"
      ],
      "execution_count": null,
      "outputs": [
        {
          "output_type": "execute_result",
          "data": {
            "text/plain": [
              "'45230,48,0.07,4300\\n'"
            ]
          },
          "metadata": {
            "tags": []
          },
          "execution_count": 40
        }
      ]
    },
    {
      "cell_type": "code",
      "metadata": {
        "id": "BOZXY2wWrJ_O",
        "outputId": "6dd432fb-fd3b-4290-80ee-0cb4b795313d"
      },
      "source": [
        "values1 = parse_values(file3_lines[1])\n",
        "create_item_dict(values1, headers)"
      ],
      "execution_count": null,
      "outputs": [
        {
          "output_type": "execute_result",
          "data": {
            "text/plain": [
              "{'amount': 45230.0, 'duration': 48.0, 'rate': 0.07, 'down_payment': 4300.0}"
            ]
          },
          "metadata": {
            "tags": []
          },
          "execution_count": 41
        }
      ]
    },
    {
      "cell_type": "code",
      "metadata": {
        "id": "03qkpW9lrJ_O",
        "outputId": "49ecc727-7ab3-4b46-a045-d2771c3eb667"
      },
      "source": [
        "file3_lines[2]"
      ],
      "execution_count": null,
      "outputs": [
        {
          "output_type": "execute_result",
          "data": {
            "text/plain": [
              "'883000,16,0.14,\\n'"
            ]
          },
          "metadata": {
            "tags": []
          },
          "execution_count": 42
        }
      ]
    },
    {
      "cell_type": "code",
      "metadata": {
        "id": "Ecy2DlwxrJ_O",
        "outputId": "8a39caec-fcba-4d5b-e9a0-7d8b5eed64ed"
      },
      "source": [
        "values2 = parse_values(file3_lines[2])\n",
        "create_item_dict(values2, headers)"
      ],
      "execution_count": null,
      "outputs": [
        {
          "output_type": "execute_result",
          "data": {
            "text/plain": [
              "{'amount': 883000.0, 'duration': 16.0, 'rate': 0.14, 'down_payment': 0.0}"
            ]
          },
          "metadata": {
            "tags": []
          },
          "execution_count": 43
        }
      ]
    },
    {
      "cell_type": "markdown",
      "metadata": {
        "id": "g_EnBCIHrJ_O"
      },
      "source": [
        "As expected, the values & header are combined to create a dictionary with the appropriate key-value pairs.\n",
        "\n",
        "We are now ready to put it all together and define the `read_csv` function."
      ]
    },
    {
      "cell_type": "code",
      "metadata": {
        "id": "WPwD6gWzrJ_O"
      },
      "source": [
        "def read_csv(path):\n",
        "    result = []\n",
        "    # Open the file in read mode\n",
        "    with open(path, 'r') as f:\n",
        "        # Get a list of lines\n",
        "        lines = f.readlines()\n",
        "        # Parse the header\n",
        "        headers = parse_headers(lines[0])\n",
        "        # Loop over the remaining lines\n",
        "        for data_line in lines[1:]:\n",
        "            # Parse the values\n",
        "            values = parse_values(data_line)\n",
        "            # Create a dictionary using values & headers\n",
        "            item_dict = create_item_dict(values, headers)\n",
        "            # Add the dictionary to the result\n",
        "            result.append(item_dict)\n",
        "    return result"
      ],
      "execution_count": null,
      "outputs": []
    },
    {
      "cell_type": "markdown",
      "metadata": {
        "id": "CNYnHH_vrJ_O"
      },
      "source": [
        "Let's try it out!"
      ]
    },
    {
      "cell_type": "code",
      "metadata": {
        "id": "XoNZoZAlrJ_O",
        "outputId": "d0cc1670-2837-4e97-fc2b-4777034b71d6"
      },
      "source": [
        "with open('./data/loans2.txt') as file2:\n",
        "    print(file2.read())"
      ],
      "execution_count": null,
      "outputs": [
        {
          "output_type": "stream",
          "text": [
            "amount,duration,rate,down_payment\n",
            "828400,120,0.11,100000\n",
            "4633400,240,0.06,\n",
            "42900,90,0.08,8900\n",
            "983000,16,0.14,\n",
            "15230,48,0.07,4300\n"
          ],
          "name": "stdout"
        }
      ]
    },
    {
      "cell_type": "code",
      "metadata": {
        "id": "0mALgH3BrJ_O",
        "outputId": "cac27784-2417-437e-8180-901fdbcdfb26"
      },
      "source": [
        "read_csv('./data/loans2.txt')"
      ],
      "execution_count": null,
      "outputs": [
        {
          "output_type": "execute_result",
          "data": {
            "text/plain": [
              "[{'amount': 828400.0,\n",
              "  'duration': 120.0,\n",
              "  'rate': 0.11,\n",
              "  'down_payment': 100000.0},\n",
              " {'amount': 4633400.0, 'duration': 240.0, 'rate': 0.06, 'down_payment': 0.0},\n",
              " {'amount': 42900.0, 'duration': 90.0, 'rate': 0.08, 'down_payment': 8900.0},\n",
              " {'amount': 983000.0, 'duration': 16.0, 'rate': 0.14, 'down_payment': 0.0},\n",
              " {'amount': 15230.0, 'duration': 48.0, 'rate': 0.07, 'down_payment': 4300.0}]"
            ]
          },
          "metadata": {
            "tags": []
          },
          "execution_count": 46
        }
      ]
    },
    {
      "cell_type": "markdown",
      "metadata": {
        "id": "P3vwkE33rJ_O"
      },
      "source": [
        "The file is read and converted to a list of dictionaries, as expected. The `read_csv` file is generic enough that it can parse any file in the CSV format, with any number of rows or columns. Here's the full code for `read_csv` along with the helper functions:"
      ]
    },
    {
      "cell_type": "code",
      "metadata": {
        "id": "Gv6nUrtJrJ_O"
      },
      "source": [
        "def parse_headers(header_line):\n",
        "    return header_line.strip().split(',')\n",
        "\n",
        "def parse_values(data_line):\n",
        "    values = []\n",
        "    for item in data_line.strip().split(','):\n",
        "        if item == '':\n",
        "            values.append(0.0)\n",
        "        else:\n",
        "            values.append(float(item))\n",
        "    return values\n",
        "\n",
        "def create_item_dict(values, headers):\n",
        "    result = {}\n",
        "    for value, header in zip(values, headers):\n",
        "        result[header] = value\n",
        "    return result\n",
        "\n",
        "def read_csv(path):\n",
        "    result = []\n",
        "    # Open the file in read mode\n",
        "    with open(path, 'r') as f:\n",
        "        # Get a list of lines\n",
        "        lines = f.readlines()\n",
        "        # Parse the header\n",
        "        headers = parse_headers(lines[0])\n",
        "        # Loop over the remaining lines\n",
        "        for data_line in lines[1:]:\n",
        "            # Parse the values\n",
        "            values = parse_values(data_line)\n",
        "            # Create a dictionary using values & headers\n",
        "            item_dict = create_item_dict(values, headers)\n",
        "            # Add the dictionary to the result\n",
        "            result.append(item_dict)\n",
        "    return result"
      ],
      "execution_count": null,
      "outputs": []
    },
    {
      "cell_type": "markdown",
      "metadata": {
        "id": "23NTRqLWrJ_O"
      },
      "source": [
        "Try to create small, generic, and reusable functions whenever possible. They will likely be useful beyond just the problem at hand and save you significant effort in the future.\n",
        "\n",
        "In the [previous tutorial](https://jovian.ml/aakashns/python-functions-and-scope), we defined a function to calculate the equal monthly installments for a loan. Here's what it looked like:"
      ]
    },
    {
      "cell_type": "code",
      "metadata": {
        "id": "5gT-4Q97rJ_O"
      },
      "source": [
        "import math\n",
        "\n",
        "def loan_emi(amount, duration, rate, down_payment=0):\n",
        "    \"\"\"Calculates the equal montly installment (EMI) for a loan.\n",
        "    \n",
        "    Arguments:\n",
        "        amount - Total amount to be spent (loan + down payment)\n",
        "        duration - Duration of the loan (in months)\n",
        "        rate - Rate of interest (monthly)\n",
        "        down_payment (optional) - Optional intial payment (deducted from amount)\n",
        "    \"\"\"\n",
        "    loan_amount = amount - down_payment\n",
        "    try:\n",
        "        emi = loan_amount * rate * ((1+rate)**duration) / (((1+rate)**duration)-1)\n",
        "    except ZeroDivisionError:\n",
        "        emi = loan_amount / duration\n",
        "    emi = math.ceil(emi)\n",
        "    return emi"
      ],
      "execution_count": null,
      "outputs": []
    },
    {
      "cell_type": "markdown",
      "metadata": {
        "id": "-L8P3TqxrJ_O"
      },
      "source": [
        "We can use this function to calculate EMIs for all the loans in a file."
      ]
    },
    {
      "cell_type": "code",
      "metadata": {
        "id": "vA1e8D2orJ_O"
      },
      "source": [
        "loans2 = read_csv('./data/loans2.txt')"
      ],
      "execution_count": null,
      "outputs": []
    },
    {
      "cell_type": "code",
      "metadata": {
        "id": "ipGFBce-rJ_O",
        "outputId": "fd491842-2d68-4d3d-a113-e56cb6dc0d32"
      },
      "source": [
        "loans2"
      ],
      "execution_count": null,
      "outputs": [
        {
          "output_type": "execute_result",
          "data": {
            "text/plain": [
              "[{'amount': 828400.0,\n",
              "  'duration': 120.0,\n",
              "  'rate': 0.11,\n",
              "  'down_payment': 100000.0},\n",
              " {'amount': 4633400.0, 'duration': 240.0, 'rate': 0.06, 'down_payment': 0.0},\n",
              " {'amount': 42900.0, 'duration': 90.0, 'rate': 0.08, 'down_payment': 8900.0},\n",
              " {'amount': 983000.0, 'duration': 16.0, 'rate': 0.14, 'down_payment': 0.0},\n",
              " {'amount': 15230.0, 'duration': 48.0, 'rate': 0.07, 'down_payment': 4300.0}]"
            ]
          },
          "metadata": {
            "tags": []
          },
          "execution_count": 50
        }
      ]
    },
    {
      "cell_type": "code",
      "metadata": {
        "id": "83-UmblqrJ_O"
      },
      "source": [
        "for loan in loans2:\n",
        "    loan['emi'] = loan_emi(loan['amount'], \n",
        "                           loan['duration'], \n",
        "                           loan['rate']/12, # the CSV contains yearly rates\n",
        "                           loan['down_payment'])"
      ],
      "execution_count": null,
      "outputs": []
    },
    {
      "cell_type": "code",
      "metadata": {
        "id": "hT1wJmz8rJ_O",
        "outputId": "fb60208c-0079-428b-d139-12206c883ffe"
      },
      "source": [
        "loans2"
      ],
      "execution_count": null,
      "outputs": [
        {
          "output_type": "execute_result",
          "data": {
            "text/plain": [
              "[{'amount': 828400.0,\n",
              "  'duration': 120.0,\n",
              "  'rate': 0.11,\n",
              "  'down_payment': 100000.0,\n",
              "  'emi': 10034},\n",
              " {'amount': 4633400.0,\n",
              "  'duration': 240.0,\n",
              "  'rate': 0.06,\n",
              "  'down_payment': 0.0,\n",
              "  'emi': 33196},\n",
              " {'amount': 42900.0,\n",
              "  'duration': 90.0,\n",
              "  'rate': 0.08,\n",
              "  'down_payment': 8900.0,\n",
              "  'emi': 504},\n",
              " {'amount': 983000.0,\n",
              "  'duration': 16.0,\n",
              "  'rate': 0.14,\n",
              "  'down_payment': 0.0,\n",
              "  'emi': 67707},\n",
              " {'amount': 15230.0,\n",
              "  'duration': 48.0,\n",
              "  'rate': 0.07,\n",
              "  'down_payment': 4300.0,\n",
              "  'emi': 262}]"
            ]
          },
          "metadata": {
            "tags": []
          },
          "execution_count": 52
        }
      ]
    },
    {
      "cell_type": "markdown",
      "metadata": {
        "id": "I71mUIdHrJ_O"
      },
      "source": [
        "You can see that each loan now has a new key `emi`, which provides the EMI for the loan. We can extract this logic into a function so that we can use it for other files too."
      ]
    },
    {
      "cell_type": "code",
      "metadata": {
        "id": "9VOgZOTSrJ_O"
      },
      "source": [
        "def compute_emis(loans):\n",
        "    for loan in loans:\n",
        "        loan['emi'] = loan_emi(\n",
        "            loan['amount'], \n",
        "            loan['duration'], \n",
        "            loan['rate']/12, # the CSV contains yearly rates\n",
        "            loan['down_payment'])"
      ],
      "execution_count": null,
      "outputs": []
    },
    {
      "cell_type": "markdown",
      "metadata": {
        "id": "KAhJlOZ-rJ_O"
      },
      "source": [
        "### Writing to files\n",
        "\n",
        "Now that we have performed some processing on the data, it would be good to write the results back to a CSV file. We can create/open a file in `w` mode using `open` and write to it using the `.write` method. The string `format` method will come in handy here."
      ]
    },
    {
      "cell_type": "code",
      "metadata": {
        "id": "4Mgr4wUirJ_O"
      },
      "source": [
        "loans2 = read_csv('./data/loans2.txt')"
      ],
      "execution_count": null,
      "outputs": []
    },
    {
      "cell_type": "code",
      "metadata": {
        "id": "O6tvNKGArJ_O"
      },
      "source": [
        "compute_emis(loans2)"
      ],
      "execution_count": null,
      "outputs": []
    },
    {
      "cell_type": "code",
      "metadata": {
        "id": "FSyXYyfarJ_P",
        "outputId": "17e4467a-07fa-440e-f458-1faf11037436"
      },
      "source": [
        "loans2"
      ],
      "execution_count": null,
      "outputs": [
        {
          "output_type": "execute_result",
          "data": {
            "text/plain": [
              "[{'amount': 828400.0,\n",
              "  'duration': 120.0,\n",
              "  'rate': 0.11,\n",
              "  'down_payment': 100000.0,\n",
              "  'emi': 10034},\n",
              " {'amount': 4633400.0,\n",
              "  'duration': 240.0,\n",
              "  'rate': 0.06,\n",
              "  'down_payment': 0.0,\n",
              "  'emi': 33196},\n",
              " {'amount': 42900.0,\n",
              "  'duration': 90.0,\n",
              "  'rate': 0.08,\n",
              "  'down_payment': 8900.0,\n",
              "  'emi': 504},\n",
              " {'amount': 983000.0,\n",
              "  'duration': 16.0,\n",
              "  'rate': 0.14,\n",
              "  'down_payment': 0.0,\n",
              "  'emi': 67707},\n",
              " {'amount': 15230.0,\n",
              "  'duration': 48.0,\n",
              "  'rate': 0.07,\n",
              "  'down_payment': 4300.0,\n",
              "  'emi': 262}]"
            ]
          },
          "metadata": {
            "tags": []
          },
          "execution_count": 56
        }
      ]
    },
    {
      "cell_type": "code",
      "metadata": {
        "id": "BALK9LNqrJ_P"
      },
      "source": [
        "with open('./data/emis2.txt', 'w') as f:\n",
        "    for loan in loans2:\n",
        "        f.write('{},{},{},{},{}\\n'.format(\n",
        "            loan['amount'], \n",
        "            loan['duration'], \n",
        "            loan['rate'], \n",
        "            loan['down_payment'], \n",
        "            loan['emi']))"
      ],
      "execution_count": null,
      "outputs": []
    },
    {
      "cell_type": "markdown",
      "metadata": {
        "id": "Z6OAPrrArJ_P"
      },
      "source": [
        "Let's verify that the file was created and written to as expected."
      ]
    },
    {
      "cell_type": "code",
      "metadata": {
        "id": "4p9F2un5rJ_P",
        "outputId": "20964d40-05c3-4e03-8a50-b408f807ec22"
      },
      "source": [
        "os.listdir('data')"
      ],
      "execution_count": null,
      "outputs": [
        {
          "output_type": "execute_result",
          "data": {
            "text/plain": [
              "['loans2.txt',\n",
              " 'loans3.txt',\n",
              " 'loans1.txt',\n",
              " 'emis3.txt',\n",
              " 'emis2.txt',\n",
              " 'emis1.txt']"
            ]
          },
          "metadata": {
            "tags": []
          },
          "execution_count": 58
        }
      ]
    },
    {
      "cell_type": "code",
      "metadata": {
        "id": "AiBI6u7OrJ_P",
        "outputId": "0e0f0903-2b0a-414f-f272-3f08501576bf"
      },
      "source": [
        "with open('./data/emis2.txt', 'r') as f:\n",
        "    print(f.read())"
      ],
      "execution_count": null,
      "outputs": [
        {
          "output_type": "stream",
          "text": [
            "828400.0,120.0,0.11,100000.0,10034\n",
            "4633400.0,240.0,0.06,0.0,33196\n",
            "42900.0,90.0,0.08,8900.0,504\n",
            "983000.0,16.0,0.14,0.0,67707\n",
            "15230.0,48.0,0.07,4300.0,262\n",
            "\n"
          ],
          "name": "stdout"
        }
      ]
    },
    {
      "cell_type": "markdown",
      "metadata": {
        "id": "oy3GOQw-rJ_P"
      },
      "source": [
        "Great, looks like the loan details (along with the computed EMIs) were written into the file.\n",
        "\n",
        "Let's define a generic function `write_csv` which takes a list of dictionaries and writes it to a file in CSV format. We will also include the column headers in the first line."
      ]
    },
    {
      "cell_type": "code",
      "metadata": {
        "id": "0PjsGdW5rJ_P"
      },
      "source": [
        "def write_csv(items, path):\n",
        "    # Open the file in write mode\n",
        "    with open(path, 'w') as f:\n",
        "        # Return if there's nothing to write\n",
        "        if len(items) == 0:\n",
        "            return\n",
        "        \n",
        "        # Write the headers in the first line\n",
        "        headers = list(items[0].keys())\n",
        "        f.write(','.join(headers) + '\\n')\n",
        "        \n",
        "        # Write one item per line\n",
        "        for item in items:\n",
        "            values = []\n",
        "            for header in headers:\n",
        "                values.append(str(item.get(header, \"\")))\n",
        "            f.write(','.join(values) + \"\\n\")"
      ],
      "execution_count": null,
      "outputs": []
    },
    {
      "cell_type": "markdown",
      "metadata": {
        "id": "V3M1cYABrJ_P"
      },
      "source": [
        "Do you understand how the function works? If now, try executing each statement by line by line or a different cell to figure out how it works. \n",
        "\n",
        "Let's try it out!"
      ]
    },
    {
      "cell_type": "code",
      "metadata": {
        "id": "5j9wxLXqrJ_P"
      },
      "source": [
        "loans3 = read_csv('./data/loans3.txt')"
      ],
      "execution_count": null,
      "outputs": []
    },
    {
      "cell_type": "code",
      "metadata": {
        "id": "T_9HZ8Z-rJ_P"
      },
      "source": [
        "compute_emis(loans3)"
      ],
      "execution_count": null,
      "outputs": []
    },
    {
      "cell_type": "code",
      "metadata": {
        "id": "kEGgPz2rrJ_P"
      },
      "source": [
        "write_csv(loans3, './data/emis3.txt')"
      ],
      "execution_count": null,
      "outputs": []
    },
    {
      "cell_type": "code",
      "metadata": {
        "id": "b3L3-6-crJ_P",
        "outputId": "a1ea6213-69dd-4822-a897-79bfd24b9283"
      },
      "source": [
        "with open('./data/emis3.txt', 'r') as f:\n",
        "    print(f.read())"
      ],
      "execution_count": null,
      "outputs": [
        {
          "output_type": "stream",
          "text": [
            "amount,duration,rate,down_payment,emi\n",
            "45230.0,48.0,0.07,4300.0,981\n",
            "883000.0,16.0,0.14,0.0,60819\n",
            "100000.0,12.0,0.1,0.0,8792\n",
            "728400.0,120.0,0.12,100000.0,9016\n",
            "3637400.0,240.0,0.06,0.0,26060\n",
            "82900.0,90.0,0.07,8900.0,1060\n",
            "316000.0,16.0,0.13,0.0,21618\n",
            "15230.0,48.0,0.08,4300.0,267\n",
            "991360.0,99.0,0.08,0.0,13712\n",
            "323000.0,27.0,0.09,4720010000.0,-193751447\n",
            "528400.0,120.0,0.11,100000.0,5902\n",
            "8633400.0,240.0,0.06,0.0,61853\n",
            "12900.0,90.0,0.08,8900.0,60\n",
            "\n"
          ],
          "name": "stdout"
        }
      ]
    },
    {
      "cell_type": "markdown",
      "metadata": {
        "id": "Jol99KlrrJ_P"
      },
      "source": [
        "With just four lines of code, we can now read each downloaded file, calculate the EMIs, and write the results back to new files:"
      ]
    },
    {
      "cell_type": "code",
      "metadata": {
        "id": "5H2r1gr-rJ_P"
      },
      "source": [
        "for i in range(1,4):\n",
        "    loans = read_csv('./data/loans{}.txt'.format(i))\n",
        "    compute_emis(loans)\n",
        "    write_csv(loans, './data/emis{}.txt'.format(i))"
      ],
      "execution_count": null,
      "outputs": []
    },
    {
      "cell_type": "code",
      "metadata": {
        "id": "r1ZzHoT8rJ_P",
        "outputId": "214e11f9-8ad8-4600-f80c-9a5b64a93435"
      },
      "source": [
        "os.listdir('./data')"
      ],
      "execution_count": null,
      "outputs": [
        {
          "output_type": "execute_result",
          "data": {
            "text/plain": [
              "['loans2.txt',\n",
              " 'loans3.txt',\n",
              " 'loans1.txt',\n",
              " 'emis3.txt',\n",
              " 'emis2.txt',\n",
              " 'emis1.txt']"
            ]
          },
          "metadata": {
            "tags": []
          },
          "execution_count": 66
        }
      ]
    },
    {
      "cell_type": "markdown",
      "metadata": {
        "id": "t3_F3e2HrJ_P"
      },
      "source": [
        "Isn't that wonderful? Once all the functions are defined, we can calculate EMIs for thousands or even millions of loans across many files in seconds with just a few lines of code. Now we're starting to see the real power of using a programming language like Python for processing data!"
      ]
    },
    {
      "cell_type": "markdown",
      "metadata": {
        "id": "kNyZjBrWrJ_P"
      },
      "source": [
        "### Save and upload your notebook\n",
        "\n",
        "Whether you're running this Jupyter notebook online or on your computer, it's essential to save your work from time to time. You can continue working on a saved notebook later or share it with friends and colleagues to let them execute your code. [Jovian](https://www.jovian.ai) offers an easy way of saving and sharing your Jupyter notebooks online."
      ]
    },
    {
      "cell_type": "code",
      "metadata": {
        "id": "d0qJzB9mrJ_P"
      },
      "source": [
        "# Install the library\n",
        "!pip install jovian --upgrade --quiet"
      ],
      "execution_count": null,
      "outputs": []
    },
    {
      "cell_type": "code",
      "metadata": {
        "id": "wLkdb1XrrJ_P"
      },
      "source": [
        "# Import the jovian module\n",
        "import jovian"
      ],
      "execution_count": null,
      "outputs": []
    },
    {
      "cell_type": "code",
      "metadata": {
        "id": "0NBmE4iYrJ_P"
      },
      "source": [
        "jovian.commit(project='python-os-and-filesystem')"
      ],
      "execution_count": null,
      "outputs": []
    },
    {
      "cell_type": "markdown",
      "metadata": {
        "id": "sAFK3JZ0rJ_P"
      },
      "source": [
        "The first time you run `jovian.commit`, you'll be asked to provide an API Key to securely upload the notebook to your Jovian account. You can get the API key from your [Jovian profile page](https://jovian.ai) after logging in / signing up.\n",
        "\n",
        "\n",
        "`jovian.commit` uploads the notebook to your Jovian account, captures the Python environment, and creates a shareable link for your notebook, as shown above. You can use this link to share your work and let anyone (including you) run your notebooks and reproduce your work."
      ]
    },
    {
      "cell_type": "markdown",
      "metadata": {
        "id": "kozIYbtSrJ_P"
      },
      "source": [
        "## Exercise - Processing CSV files using a dictionary of lists\n",
        "\n",
        "We defined the functions `read_csv` and `write_csv` above to convert a CSV file into a list of dictionaries and vice versa. In this exercise, you'll transform the CSV data into a dictionary of lists instead, with one list for each column in the file.\n",
        "\n",
        "For example, consider the following CSV file:\n",
        "\n",
        "```\n",
        "amount,duration,rate,down_payment\n",
        "828400,120,0.11,100000\n",
        "4633400,240,0.06,\n",
        "42900,90,0.08,8900\n",
        "983000,16,0.14,\n",
        "15230,48,0.07,4300\n",
        "```\n",
        "\n",
        "We'll convert it into the following dictionary of lists:\n",
        "\n",
        "```\n",
        "{\n",
        "  amount: [828400, 4633400, 42900, 983000, 15230],\n",
        "  duration: []120, 240, 90, 16, 48],\n",
        "  rate: [0.11, 0.06, 0.08, 0.14, 0.07],\n",
        "  down_payment: [100000, 0, 8900, 0, 4300]\n",
        "}\n",
        "```\n",
        "\n",
        "Complete the following tasks using the empty cells below:\n",
        "\n",
        "1. Download three CSV files to the folder `data2` using the URLs listed in the code cell below, and verify the downloaded files.\n",
        "2. Define a function `read_csv_columnar` that reads a CSV file and returns a dictionary of lists in the format shown above. \n",
        "3. Define a function `compute_emis` that adds another key `emi` into the dictionary with a list of EMIs computed for each row of data.\n",
        "4. Define a function `write_csv_columnar` that writes the data from the dictionary of lists into a correctly formatted CSV file.\n",
        "5. Process all three downloaded files and write the results by creating new files in the directory `data2`.\n",
        "\n",
        "Define helper functions wherever required.\n"
      ]
    },
    {
      "cell_type": "code",
      "metadata": {
        "id": "4oxC_jEwrJ_P"
      },
      "source": [
        "url1 = 'https://gist.githubusercontent.com/aakashns/257f6e6c8719c17d0e498ea287d1a386/raw/7def9ef4234ddf0bc82f855ad67dac8b971852ef/loans1.txt'\n",
        "url2 = 'https://gist.githubusercontent.com/aakashns/257f6e6c8719c17d0e498ea287d1a386/raw/7def9ef4234ddf0bc82f855ad67dac8b971852ef/loans2.txt'\n",
        "url3 = 'https://gist.githubusercontent.com/aakashns/257f6e6c8719c17d0e498ea287d1a386/raw/7def9ef4234ddf0bc82f855ad67dac8b971852ef/loans3.txt'"
      ],
      "execution_count": null,
      "outputs": []
    },
    {
      "cell_type": "code",
      "metadata": {
        "id": "jQr-ZESTrJ_P"
      },
      "source": [
        ""
      ],
      "execution_count": null,
      "outputs": []
    },
    {
      "cell_type": "code",
      "metadata": {
        "id": "oCpa-s03rJ_P"
      },
      "source": [
        ""
      ],
      "execution_count": null,
      "outputs": []
    },
    {
      "cell_type": "code",
      "metadata": {
        "id": "E3Oq7EymrJ_P"
      },
      "source": [
        ""
      ],
      "execution_count": null,
      "outputs": []
    },
    {
      "cell_type": "code",
      "metadata": {
        "id": "zXGtB9mMrJ_P"
      },
      "source": [
        ""
      ],
      "execution_count": null,
      "outputs": []
    },
    {
      "cell_type": "code",
      "metadata": {
        "id": "zBHNoT9SrJ_P"
      },
      "source": [
        ""
      ],
      "execution_count": null,
      "outputs": []
    },
    {
      "cell_type": "markdown",
      "metadata": {
        "id": "VmDOKGIZrJ_P"
      },
      "source": [
        "Finally, let's save a snapshot of our work using `jovian.commit`."
      ]
    },
    {
      "cell_type": "code",
      "metadata": {
        "id": "TSjTfRWKrJ_P",
        "outputId": "1a7e56ba-377f-4663-b79c-11808b4d20ec"
      },
      "source": [
        "jovian.commit(project='python-os-and-filesystem')"
      ],
      "execution_count": null,
      "outputs": [
        {
          "output_type": "display_data",
          "data": {
            "application/javascript": [
              "window.require && require([\"base/js/namespace\"],function(Jupyter){Jupyter.notebook.save_checkpoint()})"
            ],
            "text/plain": [
              "<IPython.core.display.Javascript object>"
            ]
          },
          "metadata": {
            "tags": []
          }
        },
        {
          "output_type": "stream",
          "text": [
            "[jovian] Attempting to save notebook..\u001b[0m\n"
          ],
          "name": "stdout"
        }
      ]
    },
    {
      "cell_type": "markdown",
      "metadata": {
        "id": "dHyawrAmrJ_P"
      },
      "source": [
        "## Summary and Further Reading\n",
        "\n",
        "With this, we complete our discussion of reading from and writing to files in Python. We've covered the following topics in this tutorial:\n",
        "\n",
        "* Interacting with the file system using the `os` module\n",
        "* Downloading files from URLs using the `urllib` module\n",
        "* Opening files using the `open` built-in function\n",
        "* Reading the contents of a file using `.read`\n",
        "* Closing a file automatically using `with`\n",
        "* Reading a file line by line using `readlines`\n",
        "* Processing data from a CSV file by defining functions\n",
        "* Using helper functions to build more complex functions\n",
        "* Writing data to a file using `.write`\n",
        "\n",
        "This tutorial on working with files in Python is by no means exhaustive. Following are some more resources you should check out:\n",
        "\n",
        "* Python Tutorial at W3Schools: https://www.w3schools.com/python/\n",
        "* Practical Python Programming: https://dabeaz-course.github.io/practical-python/Notes/Contents.html\n",
        "* Python official documentation: https://docs.python.org/3/tutorial/index.html\n",
        "\n",
        "You are ready to move on to the next tutorial: [Numerical Computing with Python and Numpy](https://jovian.ai/aakashns/python-numerical-computing-with-numpy)."
      ]
    },
    {
      "cell_type": "markdown",
      "metadata": {
        "id": "wPyWDWFprJ_P"
      },
      "source": [
        "## Questions for Revision\n",
        "\n",
        "Try answering the following questions to test your understanding of the topics covered in this notebook:\n",
        "\n",
        "1. What is the purpose of the `os` module in Python?\n",
        "2. How do you identify the current working directory in a Jupyter notebook?\n",
        "3. How do you retrieve the list of files within a directory using Python?\n",
        "4. How do you create a directory using Python?\n",
        "5. How do you check whether a file or directory exists on the filesystem? Hint: `os.path.exists`.\n",
        "6. Where can you find the full list of functions contained in the `os` module?\n",
        "7. Give examples of 5 useful functions from the `os` and `os.path` modules.\n",
        "8. How do you download a file from a URL using Python?\n",
        "9. How do you open a file using Python? Give an example?\n",
        "10. What are the different modes for opening a file in Python?\n",
        "11. Can you open a file in multiple modes? Illustrate with an example.\n",
        "12. What is the file object? How is it useful?\n",
        "13. How do you read the contents of a file into a string?\n",
        "14. What is a CSV file? Give an example.\n",
        "15. How do you close an open file?\n",
        "16. Why is it essential to close a file after processing it?\n",
        "17. How do you ensure that files are closed automatically after processing? Give an example.\n",
        "18. How is the `with` statement useful for working with files?\n",
        "19. What happens if you try to read from a closed file?\n",
        "20. How do you read the contents of a file line by line?\n",
        "21. Write a function to convert the contents of a CSV file into a list of dictionaries (one dictionary for each row of the file).\n",
        "22. Write a function to convert the contents of a CSV file into a dictionary of lists (one dictionary for each column of the file).\n",
        "23. How do you write to a file using Python?\n",
        "24. How is the string `.format` method for writing data to a file in CSV format?\n",
        "25. Write a function to write data from a list of dictionaries into a CSV file.\n",
        "26. Write a function to write data from a dictionary of lists into a CSV file.\n",
        "27. Where can you learn about the methods supported by the file object in Python?\n"
      ]
    },
    {
      "cell_type": "code",
      "metadata": {
        "id": "ucWIKGtwrJ_P"
      },
      "source": [
        ""
      ],
      "execution_count": null,
      "outputs": []
    }
  ]
}