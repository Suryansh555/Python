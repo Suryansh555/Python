{
 "cells": [
  {
   "cell_type": "code",
   "execution_count": 7,
   "metadata": {},
   "outputs": [
    {
     "name": "stdout",
     "output_type": "stream",
     "text": [
      "Collecting firebase\n",
      "  Downloading https://files.pythonhosted.org/packages/f8/33/6b2a24e349563f2d279ccc8321f26a9c0d6d2f8205adb68f3046c3ec7a89/firebase-3.0.1-py3-none-any.whl\n",
      "Requirement already satisfied: requests in c:\\users\\admin\\anaconda3\\lib\\site-packages (from firebase) (2.22.0)\n",
      "Requirement already satisfied: chardet<3.1.0,>=3.0.2 in c:\\users\\admin\\anaconda3\\lib\\site-packages (from requests->firebase) (3.0.4)\n",
      "Requirement already satisfied: certifi>=2017.4.17 in c:\\users\\admin\\anaconda3\\lib\\site-packages (from requests->firebase) (2019.9.11)\n",
      "Requirement already satisfied: urllib3!=1.25.0,!=1.25.1,<1.26,>=1.21.1 in c:\\users\\admin\\anaconda3\\lib\\site-packages (from requests->firebase) (1.24.2)\n",
      "Requirement already satisfied: idna<2.9,>=2.5 in c:\\users\\admin\\anaconda3\\lib\\site-packages (from requests->firebase) (2.8)\n",
      "Installing collected packages: firebase\n",
      "Successfully installed firebase-3.0.1\n"
     ]
    }
   ],
   "source": [
    "!pip install firebase"
   ]
  },
  {
   "cell_type": "code",
   "execution_count": 7,
   "metadata": {},
   "outputs": [],
   "source": [
    "import firebase_admin"
   ]
  },
  {
   "cell_type": "code",
   "execution_count": 6,
   "metadata": {},
   "outputs": [],
   "source": [
    "from firebase_admin import credentials\n",
    "from firebase_admin import firestore"
   ]
  },
  {
   "cell_type": "code",
   "execution_count": 8,
   "metadata": {},
   "outputs": [
    {
     "data": {
      "text/plain": [
       "<firebase_admin.App at 0x1e10cb92648>"
      ]
     },
     "execution_count": 8,
     "metadata": {},
     "output_type": "execute_result"
    }
   ],
   "source": [
    "cred = credentials.Certificate(\"python-demo-7f718-firebase-adminsdk-h1lxy-415224e8af.json\")\n",
    "firebase_admin.initialize_app(cred)\n"
   ]
  },
  {
   "cell_type": "code",
   "execution_count": 9,
   "metadata": {},
   "outputs": [],
   "source": [
    "db = firestore.client()"
   ]
  },
  {
   "cell_type": "code",
   "execution_count": 10,
   "metadata": {},
   "outputs": [
    {
     "data": {
      "text/plain": [
       "update_time {\n",
       "  seconds: 1608362374\n",
       "  nanos: 741375000\n",
       "}"
      ]
     },
     "execution_count": 10,
     "metadata": {},
     "output_type": "execute_result"
    }
   ],
   "source": [
    "doc_ref = db.collection(u'users').document(u'abc')\n",
    "\n",
    "doc_ref.set({\n",
    "    u'first': u'Darshil',\n",
    "    u'last': u'Sachdev',\n",
    "    u'born': 1999\n",
    "})"
   ]
  },
  {
   "cell_type": "code",
   "execution_count": 11,
   "metadata": {},
   "outputs": [],
   "source": [
    "def enterDataInDB(name,lastName,age):\n",
    "    doc_ref = db.collection(u'users').document()\n",
    "    \n",
    "    \n",
    "    dit = {}\n",
    "    dit[\"firstName\"] = name\n",
    "    dit[\"lastName\"] = lastName\n",
    "    dit[\"age\"] = age\n",
    "    \n",
    "    doc_ref.set(dit)"
   ]
  },
  {
   "cell_type": "code",
   "execution_count": 12,
   "metadata": {},
   "outputs": [],
   "source": [
    "enterDataInDB(\"Darshil\",\"VVP\",21)"
   ]
  },
  {
   "cell_type": "code",
   "execution_count": 13,
   "metadata": {},
   "outputs": [],
   "source": [
    "enterDataInDB(\"abc\",\"cba\",99)"
   ]
  },
  {
   "cell_type": "code",
   "execution_count": 14,
   "metadata": {},
   "outputs": [],
   "source": [
    "enterDataInDB(\"Def\",\"fed\",25)"
   ]
  },
  {
   "cell_type": "code",
   "execution_count": 15,
   "metadata": {},
   "outputs": [],
   "source": [
    "enterDataInDB(\"XYZ\",\"ZYX\",44)"
   ]
  },
  {
   "cell_type": "code",
   "execution_count": 16,
   "metadata": {},
   "outputs": [],
   "source": [
    "enterDataInDB(\"PQR\",\"RQP\",100)"
   ]
  },
  {
   "cell_type": "code",
   "execution_count": 20,
   "metadata": {},
   "outputs": [
    {
     "name": "stdout",
     "output_type": "stream",
     "text": [
      "ID -  41EKuXExVkJTQIOC1kDw\n",
      "First Name -  abc\n",
      "Last Name -  cba\n",
      "Age -  99\n",
      "\n",
      "-x-x-x-x-x-x-x-x-x-x\n",
      "-x-x-x-x-x-x-x-x-x-x\n",
      "\n",
      "ID -  8Zb3tlE1v8INt2hLXeDI\n",
      "First Name -  Darshil\n",
      "Last Name -  VVP\n",
      "Age -  21\n",
      "\n",
      "-x-x-x-x-x-x-x-x-x-x\n",
      "-x-x-x-x-x-x-x-x-x-x\n",
      "\n",
      "ID -  K3Wfb5jFTehps2caz5HE\n",
      "First Name -  Def\n",
      "Last Name -  fed\n",
      "Age -  25\n",
      "\n",
      "-x-x-x-x-x-x-x-x-x-x\n",
      "-x-x-x-x-x-x-x-x-x-x\n",
      "\n",
      "ID -  abc\n",
      "First Name -  None\n",
      "Last Name -  None\n",
      "Age -  None\n",
      "\n",
      "-x-x-x-x-x-x-x-x-x-x\n",
      "-x-x-x-x-x-x-x-x-x-x\n",
      "\n",
      "ID -  c8lwflebmVcXfURhiuve\n",
      "First Name -  XYZ\n",
      "Last Name -  ZYX\n",
      "Age -  44\n",
      "\n",
      "-x-x-x-x-x-x-x-x-x-x\n",
      "-x-x-x-x-x-x-x-x-x-x\n",
      "\n",
      "ID -  sFEuf2cPvySgny1bSIgI\n",
      "First Name -  PQR\n",
      "Last Name -  RQP\n",
      "Age -  100\n",
      "\n",
      "-x-x-x-x-x-x-x-x-x-x\n",
      "-x-x-x-x-x-x-x-x-x-x\n",
      "\n"
     ]
    }
   ],
   "source": [
    "docs = db.collection(u'users').stream()\n",
    "\n",
    "for doc in docs:\n",
    "    \n",
    "    print(\"ID - \", doc.id)\n",
    "    \n",
    "    print(\"First Name - \", doc.to_dict().get(\"firstName\"))\n",
    "    print(\"Last Name - \", doc.to_dict().get(\"lastName\"))\n",
    "    print(\"Age - \", doc.to_dict().get(\"age\") )\n",
    "    \n",
    "    print(\"\\n-x-x-x-x-x-x-x-x-x-x\")\n",
    "    print(\"-x-x-x-x-x-x-x-x-x-x\\n\")\n",
    "    "
   ]
  },
  {
   "cell_type": "code",
   "execution_count": 21,
   "metadata": {},
   "outputs": [],
   "source": [
    "def updateDatainFirebase(uid, updatedAge):\n",
    "    doc_ref = db.collection(u'users').document(uid)\n",
    "    \n",
    "    doc_ref.update({\"age\":updatedAge})"
   ]
  },
  {
   "cell_type": "code",
   "execution_count": 22,
   "metadata": {},
   "outputs": [],
   "source": [
    "updateDatainFirebase(\"c8lwflebmVcXfURhiuve\",62)"
   ]
  },
  {
   "cell_type": "code",
   "execution_count": 23,
   "metadata": {},
   "outputs": [],
   "source": [
    "updateDatainFirebase(\"sFEuf2cPvySgny1bSIgI\",84)"
   ]
  },
  {
   "cell_type": "code",
   "execution_count": 24,
   "metadata": {},
   "outputs": [],
   "source": [
    "def deleteDataInFirebase(uid):\n",
    "    db.collection(u'users').document(uid).delete()"
   ]
  },
  {
   "cell_type": "code",
   "execution_count": 25,
   "metadata": {},
   "outputs": [],
   "source": [
    "deleteDataInFirebase(\"abc\")"
   ]
  }
 ],
 "metadata": {
  "kernelspec": {
   "display_name": "Python 3",
   "language": "python",
   "name": "python3"
  },
  "language_info": {
   "codemirror_mode": {
    "name": "ipython",
    "version": 3
   },
   "file_extension": ".py",
   "mimetype": "text/x-python",
   "name": "python",
   "nbconvert_exporter": "python",
   "pygments_lexer": "ipython3",
   "version": "3.7.4"
  }
 },
 "nbformat": 4,
 "nbformat_minor": 2
}
