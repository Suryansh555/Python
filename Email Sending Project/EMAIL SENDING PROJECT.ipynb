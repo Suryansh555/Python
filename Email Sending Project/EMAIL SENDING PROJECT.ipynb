{
 "cells": [
  {
   "cell_type": "code",
   "execution_count": 2,
   "metadata": {},
   "outputs": [
    {
     "name": "stdout",
     "output_type": "stream",
     "text": [
      "Collecting emails\n",
      "  Using cached https://files.pythonhosted.org/packages/55/7e/b648d640d88d31de49e566832aca9cce025c52d6349b0a0fc65e9df1f4c5/emails-0.6-py2.py3-none-any.whl\n",
      "Requirement already satisfied: lxml in c:\\users\\admin\\anaconda3\\lib\\site-packages (from emails) (4.4.1)\n",
      "Collecting cssutils (from emails)\n",
      "  Using cached https://files.pythonhosted.org/packages/6b/15/a9fb9010f58d1c55dd0b7779db2334feb9a572d407024f39a60f44293861/cssutils-1.0.2-py3-none-any.whl\n",
      "Requirement already satisfied: chardet in c:\\users\\admin\\anaconda3\\lib\\site-packages (from emails) (3.0.4)\n",
      "Requirement already satisfied: python-dateutil in c:\\users\\admin\\anaconda3\\lib\\site-packages (from emails) (2.8.0)\n",
      "Collecting premailer (from emails)\n",
      "  Using cached https://files.pythonhosted.org/packages/cd/ce/74bbdf0eee4265fd3f161d4276b36c9238b802191c2053c8e68578bda4e6/premailer-3.7.0-py2.py3-none-any.whl\n",
      "Requirement already satisfied: requests in c:\\users\\admin\\anaconda3\\lib\\site-packages (from emails) (2.22.0)\n",
      "Requirement already satisfied: six>=1.5 in c:\\users\\admin\\anaconda3\\lib\\site-packages (from python-dateutil->emails) (1.12.0)\n",
      "Collecting cssselect (from premailer->emails)\n",
      "  Using cached https://files.pythonhosted.org/packages/3b/d4/3b5c17f00cce85b9a1e6f91096e1cc8e8ede2e1be8e96b87ce1ed09e92c5/cssselect-1.1.0-py2.py3-none-any.whl\n",
      "Collecting cachetools (from premailer->emails)\n",
      "  Using cached https://files.pythonhosted.org/packages/92/da/d3c94fc7c72ad9298072681ec3e8cea86949acc5c4cce4290ba21f7050a8/cachetools-4.2.0-py3-none-any.whl\n",
      "Requirement already satisfied: certifi>=2017.4.17 in c:\\users\\admin\\anaconda3\\lib\\site-packages (from requests->emails) (2019.9.11)\n",
      "Requirement already satisfied: idna<2.9,>=2.5 in c:\\users\\admin\\anaconda3\\lib\\site-packages (from requests->emails) (2.8)\n",
      "Requirement already satisfied: urllib3!=1.25.0,!=1.25.1,<1.26,>=1.21.1 in c:\\users\\admin\\anaconda3\\lib\\site-packages (from requests->emails) (1.24.2)\n",
      "Installing collected packages: cssutils, cssselect, cachetools, premailer, emails\n",
      "Successfully installed cachetools-4.2.0 cssselect-1.1.0 cssutils-1.0.2 emails-0.6 premailer-3.7.0\n"
     ]
    }
   ],
   "source": [
    "!pip install emails"
   ]
  },
  {
   "cell_type": "code",
   "execution_count": 3,
   "metadata": {},
   "outputs": [],
   "source": [
    "import emails"
   ]
  },
  {
   "cell_type": "code",
   "execution_count": 8,
   "metadata": {},
   "outputs": [],
   "source": [
    "def sendMail(email, name):\n",
    "    html_text = '''<p style=\"text-align: left;\"><span style='font-family: \"Times New Roman\", Times, serif;'><span style=\"color: rgb(41, 105, 176);\">Hello abc,</span></span></p>\n",
    "<p style=\"text-align: justify; margin-left: 40px;\"><em><span style=\"font-family: 'Times New Roman', Times, serif;\">How are you all this is <em><strong>Darshil Sachdev</strong></em> from rajkot, Gujarat. This is my 2nd project in python course by </span></em><strong><em><span style=\"font-family: 'Times New Roman', Times, serif;\"></span></em></strong><strong><em><span style=\"font-family: 'Times New Roman', Times, serif;\"><strong>Let&apos;s upgrade.</strong></span></em></strong><strong><em><span style=\"font-family: 'Times New Roman', Times, serif;\">&nbsp;</span></em></strong></p>\n",
    "<p style=\"text-align: justify; margin-left: 40px;\"><span style=\"font-family: 'Times New Roman', Times, serif;\"><em>Hope you will Like this Project.</em></span></p>\n",
    "<p><span style=\"color: rgb(41, 105, 176);\"><span style=\"font-family: 'Times New Roman', Times, serif;\">Thanks &amp; Regards,</span></span></p>\n",
    "<p><span style=\"color: rgb(41, 105, 176);\"><span style=\"font-family: 'Times New Roman', Times, serif;\">Darshil Sachdev <br></span></span></p>\n",
    "<p><span style=\"font-family: 'Times New Roman', Times, serif;\"><br></span></p>\n",
    "<p><br></p>'''\n",
    "    \n",
    "    subject = \"Hey abc\" + name + \",you have email from test abc\"\n",
    "    message = emails.html(html=html_text,\n",
    "                          subject=subject,\n",
    "                          mail_from=('test abc', 'abct23875@gmail.com'))\n",
    "    \n",
    "    mail_via_python = message.send(to=email, \n",
    "                               smtp={'host': 'smtp.gmail.com', \n",
    "                                     'timeout': 5,\n",
    "                                    'port':587,\n",
    "                                    'user':'abct23875@gmail.com',\n",
    "                                    'password':'123@456#',\n",
    "                                    'tls':True})\n",
    "    return mail_via_python.status_code\n"
   ]
  },
  {
   "cell_type": "code",
   "execution_count": 15,
   "metadata": {},
   "outputs": [
    {
     "data": {
      "text/plain": [
       "250"
      ]
     },
     "execution_count": 15,
     "metadata": {},
     "output_type": "execute_result"
    }
   ],
   "source": [
    "sendMail(\"volot89046@95ta.com\",\"test abc\")"
   ]
  }
 ],
 "metadata": {
  "kernelspec": {
   "display_name": "Python 3",
   "language": "python",
   "name": "python3"
  },
  "language_info": {
   "codemirror_mode": {
    "name": "ipython",
    "version": 3
   },
   "file_extension": ".py",
   "mimetype": "text/x-python",
   "name": "python",
   "nbconvert_exporter": "python",
   "pygments_lexer": "ipython3",
   "version": "3.7.4"
  }
 },
 "nbformat": 4,
 "nbformat_minor": 2
}
